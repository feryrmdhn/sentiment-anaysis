{
 "cells": [
  {
   "cell_type": "markdown",
   "id": "a03c913a-dd21-4dd7-aac0-60d164381d6d",
   "metadata": {},
   "source": [
    "# Sentiment Analysis with Sagemaker linear learner\n",
    "\n"
   ]
  },
  {
   "attachments": {
    "28171333-9031-4d99-956c-9947fc4a77d6.jpg": {
     "image/jpeg": "[encoded data removed]"
    }
   },
   "cell_type": "markdown",
   "id": "c1568680-930b-48fd-be12-876c17795156",
   "metadata": {},
   "source": [
    "![stock-vector-set-of-smile-emoticons-isolated-on-white-background-line-icons-emoticons-happy-and-unhappy-391280212 (1).jpg](attachment:28171333-9031-4d99-956c-9947fc4a77d6.jpg)"
   ]
  },
  {
   "cell_type": "markdown",
   "id": "c3b4a066-3ff0-4999-9966-373a3f3016b1",
   "metadata": {},
   "source": [
    "----------"
   ]
  },
  {
   "cell_type": "markdown",
   "id": "b1e92cb1-f929-40d8-80c1-69101bce7871",
   "metadata": {},
   "source": [
    "## Install Libraries"
   ]
  },
  {
   "cell_type": "code",
   "execution_count": null,
   "id": "f6dc7bdc-bd92-4239-a85e-1d8c494d0d7c",
   "metadata": {},
   "outputs": [],
   "source": [
    "!pip install s3fs boto3 sagemaker Sastrawi"
   ]
  },
  {
   "cell_type": "markdown",
   "id": "73941c33-9f19-479d-a733-5ba55798246a",
   "metadata": {},
   "source": [
    "## Import Libraries"
   ]
  },
  {
   "cell_type": "code",
   "execution_count": 42,
   "id": "c6e842bf-4c5e-4740-b1d4-59ba0433a490",
   "metadata": {},
   "outputs": [],
   "source": [
    "import os\n",
    "import re\n",
    "import io\n",
    "import json\n",
    "\n",
    "import numpy as np\n",
    "import pandas as pd\n",
    "import matplotlib.pyplot as plt\n",
    "import seaborn as sns\n",
    "\n",
    "import boto3\n",
    "import joblib\n",
    "\n",
    "from sklearn.model_selection import train_test_split, learning_curve\n",
    "from sklearn.preprocessing import LabelEncoder\n",
    "from sklearn.feature_extraction.text import TfidfVectorizer\n",
    "from sklearn.linear_model import LogisticRegression\n",
    "from sklearn.metrics import (\n",
    "    confusion_matrix,\n",
    "    ConfusionMatrixDisplay,\n",
    "    accuracy_score,\n",
    "    classification_report,\n",
    ")\n",
    "\n",
    "from Sastrawi.StopWordRemover.StopWordRemoverFactory import StopWordRemoverFactory\n",
    "\n",
    "import sagemaker\n",
    "from sagemaker import Session, get_execution_role\n",
    "from sagemaker.inputs import TrainingInput\n",
    "from sagemaker.estimator import Estimator\n",
    "from sagemaker import image_uris\n",
    "\n",
    "import warnings\n",
    "warnings.filterwarnings('ignore')"
   ]
  },
  {
   "cell_type": "markdown",
   "id": "100d000b-8215-45a9-882a-ce591c37a529",
   "metadata": {},
   "source": [
    "Get Session and Role"
   ]
  },
  {
   "cell_type": "code",
   "execution_count": 43,
   "id": "45e53421-ff0e-46d4-b2ed-aa2832e2c3a3",
   "metadata": {},
   "outputs": [],
   "source": [
    "sagemaker_session = Session()\n",
    "role = get_execution_role()"
   ]
  },
  {
   "cell_type": "markdown",
   "id": "3a51a549-3821-4188-a18f-396237af5587",
   "metadata": {},
   "source": [
    "## Load Dataset"
   ]
  },
  {
   "cell_type": "code",
   "execution_count": 44,
   "id": "78c12497-015c-44e3-a611-e1c3174a0446",
   "metadata": {},
   "outputs": [],
   "source": [
    "# S3 config\n",
    "bucket_name = \"sentiments890\"\n",
    "file_key = \"dataset/ig_cyber_bullying.csv\"\n",
    "\n",
    "s3_uri = f\"s3://{bucket_name}/{file_key}\""
   ]
  },
  {
   "cell_type": "code",
   "execution_count": 45,
   "id": "d94327b7-a511-4f76-b4d0-a2d37b102962",
   "metadata": {},
   "outputs": [
    {
     "data": {
      "text/html": [
       "<div>\n",
       "<style scoped>\n",
       "    .dataframe tbody tr th:only-of-type {\n",
       "        vertical-align: middle;\n",
       "    }\n",
       "\n",
       "    .dataframe tbody tr th {\n",
       "        vertical-align: top;\n",
       "    }\n",
       "\n",
       "    .dataframe thead th {\n",
       "        text-align: right;\n",
       "    }\n",
       "</style>\n",
       "<table border=\"1\" class=\"dataframe\">\n",
       "  <thead>\n",
       "    <tr style=\"text-align: right;\">\n",
       "      <th></th>\n",
       "      <th>Id</th>\n",
       "      <th>Sentiment</th>\n",
       "      <th>Instagram Comment Text</th>\n",
       "    </tr>\n",
       "  </thead>\n",
       "  <tbody>\n",
       "    <tr>\n",
       "      <th>243</th>\n",
       "      <td>244</td>\n",
       "      <td>positive</td>\n",
       "      <td>Setiap caption yang di buat ibu..dan setiap kali saya membaca captionnya secara tidak langsung saya belajar bahasa Inggris ... Terima kasih ibu... Secara personal saya tdk mengenal ibu Anie tp saya yakin betapa bangganya Anak Cucumu bisa kamu didik ibu menjadi generasi bangsa yang mandiri dan unggul ... Sehat terus ibu .. Semoga Cinta Kasih dalam Keluarga selalu engkau tebarkan untuk mereka ...</td>\n",
       "    </tr>\n",
       "    <tr>\n",
       "      <th>366</th>\n",
       "      <td>367</td>\n",
       "      <td>positive</td>\n",
       "      <td>salut ma bunda  &lt;USERNAME&gt; .. mskipun ibu sambung.. tpi sellu jdi org yg plingbdpan mmbela aurel n azriel dri pra hatters..</td>\n",
       "    </tr>\n",
       "    <tr>\n",
       "      <th>28</th>\n",
       "      <td>29</td>\n",
       "      <td>negative</td>\n",
       "      <td>Dan lebih bagus lagi kalo mingkem aja hahahahahaha jahatnya akuuu</td>\n",
       "    </tr>\n",
       "    <tr>\n",
       "      <th>390</th>\n",
       "      <td>391</td>\n",
       "      <td>positive</td>\n",
       "      <td>Mereka hanya mencari rejeki utk keluarganya, kalau ada yg merasa tdk berkenan tolong jangan menggunakan kekerasan</td>\n",
       "    </tr>\n",
       "    <tr>\n",
       "      <th>268</th>\n",
       "      <td>269</td>\n",
       "      <td>positive</td>\n",
       "      <td>Di ulang berkali kali sampet gak percaya klo ini suara aslinya. Bagus bgt ??</td>\n",
       "    </tr>\n",
       "    <tr>\n",
       "      <th>320</th>\n",
       "      <td>321</td>\n",
       "      <td>positive</td>\n",
       "      <td>Ganteng yesss. Mami cuco deh sama babang. Semoga langgeng ya unchhh lope mami</td>\n",
       "    </tr>\n",
       "    <tr>\n",
       "      <th>235</th>\n",
       "      <td>236</td>\n",
       "      <td>positive</td>\n",
       "      <td>Semangat ya eyang habibie, sehat selalu, selalu dlm lindungan Allah, ambisinya selalu kuat dlm melakukan segala hal. Kereeeennnnn. Semoga bnyk penurus2 bangsa sprti eyang Habibie ????????????????????????</td>\n",
       "    </tr>\n",
       "    <tr>\n",
       "      <th>0</th>\n",
       "      <td>1</td>\n",
       "      <td>negative</td>\n",
       "      <td>&lt;USERNAME&gt; TOLOL!! Gak ada hubungan nya keguguran dgn pake hijab syar'i yg lo bilang bayi nya kepanasan didalem gak ada hubungan nya woyyyy!! Otak sama jempol lo gak singkron sih ya jadinya asal nulis komentar!</td>\n",
       "    </tr>\n",
       "    <tr>\n",
       "      <th>180</th>\n",
       "      <td>181</td>\n",
       "      <td>negative</td>\n",
       "      <td>&lt;USERNAME&gt; iya\"km bening, kelewat bening jadi buluk kan ya mbak ?? mbaknya baru nelen apasih komen kaya gini? Apa baru kesurupan ?</td>\n",
       "    </tr>\n",
       "    <tr>\n",
       "      <th>312</th>\n",
       "      <td>313</td>\n",
       "      <td>positive</td>\n",
       "      <td>Nah ini baru keren, daripada mba mba superman wkwkwk</td>\n",
       "    </tr>\n",
       "  </tbody>\n",
       "</table>\n",
       "</div>"
      ],
      "text/plain": [
       "      Id Sentiment  \\\n",
       "243  244  positive   \n",
       "366  367  positive   \n",
       "28    29  negative   \n",
       "390  391  positive   \n",
       "268  269  positive   \n",
       "320  321  positive   \n",
       "235  236  positive   \n",
       "0      1  negative   \n",
       "180  181  negative   \n",
       "312  313  positive   \n",
       "\n",
       "                                                                                                                                                                                                                                                                                                                                                                                            Instagram Comment Text  \n",
       "243  Setiap caption yang di buat ibu..dan setiap kali saya membaca captionnya secara tidak langsung saya belajar bahasa Inggris ... Terima kasih ibu... Secara personal saya tdk mengenal ibu Anie tp saya yakin betapa bangganya Anak Cucumu bisa kamu didik ibu menjadi generasi bangsa yang mandiri dan unggul ... Sehat terus ibu .. Semoga Cinta Kasih dalam Keluarga selalu engkau tebarkan untuk mereka ...  \n",
       "366                                                                                                                                                                                                                                                                                    salut ma bunda  <USERNAME> .. mskipun ibu sambung.. tpi sellu jdi org yg plingbdpan mmbela aurel n azriel dri pra hatters..  \n",
       "28                                                                                                                                                                                                                                                                                                                                               Dan lebih bagus lagi kalo mingkem aja hahahahahaha jahatnya akuuu  \n",
       "390                                                                                                                                                                                                                                                                                              Mereka hanya mencari rejeki utk keluarganya, kalau ada yg merasa tdk berkenan tolong jangan menggunakan kekerasan  \n",
       "268                                                                                                                                                                                                                                                                                                                                   Di ulang berkali kali sampet gak percaya klo ini suara aslinya. Bagus bgt ??  \n",
       "320                                                                                                                                                                                                                                                                                                                                  Ganteng yesss. Mami cuco deh sama babang. Semoga langgeng ya unchhh lope mami  \n",
       "235                                                                                                                                                                                                    Semangat ya eyang habibie, sehat selalu, selalu dlm lindungan Allah, ambisinya selalu kuat dlm melakukan segala hal. Kereeeennnnn. Semoga bnyk penurus2 bangsa sprti eyang Habibie ????????????????????????  \n",
       "0                                                                                                                                                                                               <USERNAME> TOLOL!! Gak ada hubungan nya keguguran dgn pake hijab syar'i yg lo bilang bayi nya kepanasan didalem gak ada hubungan nya woyyyy!! Otak sama jempol lo gak singkron sih ya jadinya asal nulis komentar!  \n",
       "180                                                                                                                                                                                                                                                                             <USERNAME> iya\"km bening, kelewat bening jadi buluk kan ya mbak ?? mbaknya baru nelen apasih komen kaya gini? Apa baru kesurupan ?  \n",
       "312                                                                                                                                                                                                                                                                                                                                                           Nah ini baru keren, daripada mba mba superman wkwkwk  "
      ]
     },
     "execution_count": 45,
     "metadata": {},
     "output_type": "execute_result"
    }
   ],
   "source": [
    "df = pd.read_csv(s3_uri)\n",
    "pd.set_option('display.max_colwidth', None)\n",
    "\n",
    "df.sample(n=10)"
   ]
  },
  {
   "cell_type": "markdown",
   "id": "807127a4-8d91-4b5b-a49d-4cca0ec4841e",
   "metadata": {},
   "source": [
    "Note: Dataset source https://github.com/rizalespe/Dataset-Sentimen-Analisis-Bahasa-Indonesia"
   ]
  },
  {
   "cell_type": "markdown",
   "id": "8bb882f0-ae2b-437c-8d06-7210395fc9bb",
   "metadata": {},
   "source": [
    "## Exploratory Data Analysis (EDA)"
   ]
  },
  {
   "cell_type": "code",
   "execution_count": 46,
   "id": "b9faa058-4a6c-422a-98f9-edadfcc05580",
   "metadata": {},
   "outputs": [
    {
     "name": "stdout",
     "output_type": "stream",
     "text": [
      "<class 'pandas.core.frame.DataFrame'>\n",
      "RangeIndex: 400 entries, 0 to 399\n",
      "Data columns (total 3 columns):\n",
      " #   Column                  Non-Null Count  Dtype \n",
      "---  ------                  --------------  ----- \n",
      " 0   Id                      400 non-null    int64 \n",
      " 1   Sentiment               400 non-null    object\n",
      " 2   Instagram Comment Text  400 non-null    object\n",
      "dtypes: int64(1), object(2)\n",
      "memory usage: 9.5+ KB\n"
     ]
    }
   ],
   "source": [
    "df.info()"
   ]
  },
  {
   "cell_type": "code",
   "execution_count": 47,
   "id": "e4850a69-df69-4716-80a1-22721d26e4a9",
   "metadata": {},
   "outputs": [
    {
     "data": {
      "text/plain": [
       "Index(['Id', 'Sentiment', 'Instagram Comment Text'], dtype='object')"
      ]
     },
     "execution_count": 47,
     "metadata": {},
     "output_type": "execute_result"
    }
   ],
   "source": [
    "df.columns"
   ]
  },
  {
   "cell_type": "markdown",
   "id": "f0a3590b-4f18-46bf-82f4-1b6d7d37df26",
   "metadata": {},
   "source": [
    "### Visualize"
   ]
  },
  {
   "cell_type": "code",
   "execution_count": 48,
   "id": "2af413f2-1fa0-4d36-b35d-9518c11a4175",
   "metadata": {},
   "outputs": [
    {
     "data": {
      "image/png": "[encoded data removed]",
      "text/plain": [
       "<Figure size 600x400 with 1 Axes>"
      ]
     },
     "metadata": {},
     "output_type": "display_data"
    }
   ],
   "source": [
    "plt.figure(figsize=(6, 4))\n",
    "sns.countplot(data=df, x='Sentiment', palette='Set1')\n",
    "\n",
    "# Add styling\n",
    "plt.title('Distribusi Sentimen Positif vs Negatif')\n",
    "plt.xlabel('Sentimen')\n",
    "plt.ylabel('Jumlah Komentar')\n",
    "plt.xticks(rotation=0)\n",
    "plt.tight_layout()\n",
    "\n",
    "# Show plot\n",
    "plt.show()"
   ]
  },
  {
   "cell_type": "code",
   "execution_count": 49,
   "id": "127b6bfc-c4f2-4cb7-90d1-1b6dd7c3adda",
   "metadata": {},
   "outputs": [
    {
     "data": {
      "text/plain": [
       "Sentiment\n",
       "negative    200\n",
       "positive    200\n",
       "Name: count, dtype: int64"
      ]
     },
     "execution_count": 49,
     "metadata": {},
     "output_type": "execute_result"
    }
   ],
   "source": [
    "sentiment_counts = df['Sentiment'].value_counts()\n",
    "sentiment_counts"
   ]
  },
  {
   "cell_type": "markdown",
   "id": "6ec2d565-d12c-4e11-96b0-08b209f0a0e0",
   "metadata": {},
   "source": [
    "## Data Preprocessing"
   ]
  },
  {
   "cell_type": "markdown",
   "id": "efb9c5c4-626f-44cd-9022-1bffcedcd786",
   "metadata": {},
   "source": [
    "Cek missing values"
   ]
  },
  {
   "cell_type": "code",
   "execution_count": 50,
   "id": "1dba9e80-386a-4944-8c09-cfd273790fbf",
   "metadata": {},
   "outputs": [
    {
     "data": {
      "text/plain": [
       "Id                        0\n",
       "Sentiment                 0\n",
       "Instagram Comment Text    0\n",
       "dtype: int64"
      ]
     },
     "execution_count": 50,
     "metadata": {},
     "output_type": "execute_result"
    }
   ],
   "source": [
    "df.isna().sum()"
   ]
  },
  {
   "cell_type": "markdown",
   "id": "a4155062-40a7-4344-983b-cf781047f08e",
   "metadata": {},
   "source": [
    "Cek data duplikat"
   ]
  },
  {
   "cell_type": "code",
   "execution_count": 51,
   "id": "86a743b0-f3d1-4868-86f2-06c1f2a323bf",
   "metadata": {},
   "outputs": [
    {
     "name": "stdout",
     "output_type": "stream",
     "text": [
      "Jumlah data duplikat: 0\n"
     ]
    }
   ],
   "source": [
    "duplicates = df[df.duplicated()]\n",
    "\n",
    "print(f\"Jumlah data duplikat: {duplicates.shape[0]}\")"
   ]
  },
  {
   "cell_type": "code",
   "execution_count": 52,
   "id": "13ca5d65-141f-4af2-8441-2db11e3d37fc",
   "metadata": {},
   "outputs": [
    {
     "data": {
      "text/plain": [
       "(400, 3)"
      ]
     },
     "execution_count": 52,
     "metadata": {},
     "output_type": "execute_result"
    }
   ],
   "source": [
    "df.shape"
   ]
  },
  {
   "cell_type": "code",
   "execution_count": 53,
   "id": "3f6f5d89-546a-4f6e-b71b-47f30b285e16",
   "metadata": {},
   "outputs": [],
   "source": [
    "# Hapus spasi di kolom dan ganti dengan \"_\"\n",
    "df.rename(columns={'Instagram Comment Text': 'Instagram_Comment_Text'}, inplace=True)"
   ]
  },
  {
   "cell_type": "markdown",
   "id": "98019fbd-9fa9-4aa9-80a2-e3a8e38cc95d",
   "metadata": {},
   "source": [
    "### Feature Engineering"
   ]
  },
  {
   "cell_type": "markdown",
   "id": "79402d38-d5b3-403b-bdbb-f949cf30d596",
   "metadata": {},
   "source": [
    "Hapus kolom id"
   ]
  },
  {
   "cell_type": "code",
   "execution_count": 54,
   "id": "34288fc2-d662-4998-bb71-1a5553a35d2e",
   "metadata": {},
   "outputs": [],
   "source": [
    "df.drop(columns=['Id'], inplace=True)"
   ]
  },
  {
   "cell_type": "markdown",
   "id": "beb0a26a-f227-4711-a5b6-c937a8014404",
   "metadata": {},
   "source": [
    "Encoding"
   ]
  },
  {
   "cell_type": "code",
   "execution_count": 55,
   "id": "186433f8-2ab0-4529-b12b-d40894e6c6d9",
   "metadata": {},
   "outputs": [],
   "source": [
    "encoder = LabelEncoder()\n",
    "df['Sentiment_Encoded'] = encoder.fit_transform(df['Sentiment'])"
   ]
  },
  {
   "cell_type": "code",
   "execution_count": 56,
   "id": "223913e0-78f5-4098-85ea-18cc37e50f55",
   "metadata": {},
   "outputs": [
    {
     "data": {
      "text/html": [
       "<div>\n",
       "<style scoped>\n",
       "    .dataframe tbody tr th:only-of-type {\n",
       "        vertical-align: middle;\n",
       "    }\n",
       "\n",
       "    .dataframe tbody tr th {\n",
       "        vertical-align: top;\n",
       "    }\n",
       "\n",
       "    .dataframe thead th {\n",
       "        text-align: right;\n",
       "    }\n",
       "</style>\n",
       "<table border=\"1\" class=\"dataframe\">\n",
       "  <thead>\n",
       "    <tr style=\"text-align: right;\">\n",
       "      <th></th>\n",
       "      <th>Sentiment</th>\n",
       "      <th>Instagram_Comment_Text</th>\n",
       "      <th>Sentiment_Encoded</th>\n",
       "    </tr>\n",
       "  </thead>\n",
       "  <tbody>\n",
       "    <tr>\n",
       "      <th>258</th>\n",
       "      <td>positive</td>\n",
       "      <td>Yatuhan suaranyaaaaaaa bagus bangetttttttt</td>\n",
       "      <td>1</td>\n",
       "    </tr>\n",
       "    <tr>\n",
       "      <th>297</th>\n",
       "      <td>positive</td>\n",
       "      <td>Keluarga ter-humble ter-sempurna ter-sederhana dan engga pernah sok terlihat kaya dan ga pnah manja pake pesawat jet pribadi kayak yg lain lain ??????????</td>\n",
       "      <td>1</td>\n",
       "    </tr>\n",
       "    <tr>\n",
       "      <th>277</th>\n",
       "      <td>positive</td>\n",
       "      <td>Yesssssss !!!!! Bagus bgt !!! ?????? Kids jaman now yg begini yg diksh jempolllll ????????</td>\n",
       "      <td>1</td>\n",
       "    </tr>\n",
       "    <tr>\n",
       "      <th>158</th>\n",
       "      <td>negative</td>\n",
       "      <td>Hahhahaha dan sesungguhnya allah swt melaknat wanita perebut dan pezina dengan suami sah oranglain ????????</td>\n",
       "      <td>0</td>\n",
       "    </tr>\n",
       "    <tr>\n",
       "      <th>182</th>\n",
       "      <td>negative</td>\n",
       "      <td>Emang dasar si anak nya aja yg lebay....urusan pribadi di umbar..biar di blow up... hadehh..gunanya whatsapp sms or telp buat apa..suka aneh....</td>\n",
       "      <td>0</td>\n",
       "    </tr>\n",
       "    <tr>\n",
       "      <th>153</th>\n",
       "      <td>negative</td>\n",
       "      <td>langsung saja bilang siapa yg di maksud, klu gini namanya MUNAFIK!</td>\n",
       "      <td>0</td>\n",
       "    </tr>\n",
       "    <tr>\n",
       "      <th>81</th>\n",
       "      <td>negative</td>\n",
       "      <td>Najis..,apalagi d philipine biasa bgt kali,d sana aj bangga..jd perusak moral ko bangga..najis banget liatnya.ckp d sini aj komen ny,dia pngn ngetop lwt nitezerrre.....wkwkwk..ngarep laku</td>\n",
       "      <td>0</td>\n",
       "    </tr>\n",
       "    <tr>\n",
       "      <th>334</th>\n",
       "      <td>positive</td>\n",
       "      <td>Alhamdulillah  &lt;USERNAME&gt; gak jadi sama yg ini... engku emran masyaallah ganteng, anteng, sabar, sholeh, penyanyang, senyumnya cute.. baper dech</td>\n",
       "      <td>1</td>\n",
       "    </tr>\n",
       "    <tr>\n",
       "      <th>183</th>\n",
       "      <td>negative</td>\n",
       "      <td>Coba liat bibir mu sayang, seperti pantat ayam. Wajah mu bulukan seperti kentut?? perfectoooo?</td>\n",
       "      <td>0</td>\n",
       "    </tr>\n",
       "    <tr>\n",
       "      <th>224</th>\n",
       "      <td>positive</td>\n",
       "      <td>Cantik dan gagah mudahan lancar dampe hari h</td>\n",
       "      <td>1</td>\n",
       "    </tr>\n",
       "  </tbody>\n",
       "</table>\n",
       "</div>"
      ],
      "text/plain": [
       "    Sentiment  \\\n",
       "258  positive   \n",
       "297  positive   \n",
       "277  positive   \n",
       "158  negative   \n",
       "182  negative   \n",
       "153  negative   \n",
       "81   negative   \n",
       "334  positive   \n",
       "183  negative   \n",
       "224  positive   \n",
       "\n",
       "                                                                                                                                                                          Instagram_Comment_Text  \\\n",
       "258                                                                                                                                                   Yatuhan suaranyaaaaaaa bagus bangetttttttt   \n",
       "297                                   Keluarga ter-humble ter-sempurna ter-sederhana dan engga pernah sok terlihat kaya dan ga pnah manja pake pesawat jet pribadi kayak yg lain lain ??????????   \n",
       "277                                                                                                   Yesssssss !!!!! Bagus bgt !!! ?????? Kids jaman now yg begini yg diksh jempolllll ????????   \n",
       "158                                                                                  Hahhahaha dan sesungguhnya allah swt melaknat wanita perebut dan pezina dengan suami sah oranglain ????????   \n",
       "182                                             Emang dasar si anak nya aja yg lebay....urusan pribadi di umbar..biar di blow up... hadehh..gunanya whatsapp sms or telp buat apa..suka aneh....   \n",
       "153                                                                                                                           langsung saja bilang siapa yg di maksud, klu gini namanya MUNAFIK!   \n",
       "81   Najis..,apalagi d philipine biasa bgt kali,d sana aj bangga..jd perusak moral ko bangga..najis banget liatnya.ckp d sini aj komen ny,dia pngn ngetop lwt nitezerrre.....wkwkwk..ngarep laku   \n",
       "334                                             Alhamdulillah  <USERNAME> gak jadi sama yg ini... engku emran masyaallah ganteng, anteng, sabar, sholeh, penyanyang, senyumnya cute.. baper dech   \n",
       "183                                                                                               Coba liat bibir mu sayang, seperti pantat ayam. Wajah mu bulukan seperti kentut?? perfectoooo?   \n",
       "224                                                                                                                                                 Cantik dan gagah mudahan lancar dampe hari h   \n",
       "\n",
       "     Sentiment_Encoded  \n",
       "258                  1  \n",
       "297                  1  \n",
       "277                  1  \n",
       "158                  0  \n",
       "182                  0  \n",
       "153                  0  \n",
       "81                   0  \n",
       "334                  1  \n",
       "183                  0  \n",
       "224                  1  "
      ]
     },
     "execution_count": 56,
     "metadata": {},
     "output_type": "execute_result"
    }
   ],
   "source": [
    "df.sample(n=10) # dengan random sampling"
   ]
  },
  {
   "cell_type": "markdown",
   "id": "23cc38b4-2155-4f69-bed1-23ca5800f43b",
   "metadata": {},
   "source": [
    "### Split Data"
   ]
  },
  {
   "cell_type": "code",
   "execution_count": 57,
   "id": "b4eaa25a-0c77-4395-8fd9-4b4c3e8f9f1a",
   "metadata": {},
   "outputs": [],
   "source": [
    "train_df, test_df = train_test_split(\n",
    "    df,\n",
    "    test_size = 0.2, \n",
    "    random_state = 42, \n",
    "    stratify=df['Sentiment']\n",
    ")"
   ]
  },
  {
   "cell_type": "markdown",
   "id": "f20eb12d-3547-4971-96ca-34be2235c432",
   "metadata": {},
   "source": [
    "### Stop Words Removal"
   ]
  },
  {
   "cell_type": "code",
   "execution_count": 58,
   "id": "115b7898-b209-4967-b4a4-f3281dd0006e",
   "metadata": {},
   "outputs": [],
   "source": [
    "factory = StopWordRemoverFactory()\n",
    "stopword = factory.create_stop_word_remover()"
   ]
  },
  {
   "cell_type": "markdown",
   "id": "35102eee-d469-4ff5-82fa-943ba35e267c",
   "metadata": {},
   "source": [
    "Terapkan ke data train"
   ]
  },
  {
   "cell_type": "code",
   "execution_count": 59,
   "id": "cc7632ab-d3ee-4313-9c56-0e0dbb5ae833",
   "metadata": {},
   "outputs": [],
   "source": [
    "def preprocess_text(text):\n",
    "    text = text.lower()\n",
    "    text = re.sub(r'[^\\w\\s]', ' ', text)\n",
    "    text = stopword.remove(text)\n",
    "    text = re.sub(r'\\s+', ' ', text).strip()\n",
    "    return text\n",
    "\n",
    "train_df['cleaned_comment'] = train_df['Instagram_Comment_Text'].apply(preprocess_text)"
   ]
  },
  {
   "cell_type": "code",
   "execution_count": 60,
   "id": "a3815764-7907-4daf-8013-cc0cacf2acab",
   "metadata": {},
   "outputs": [
    {
     "data": {
      "text/html": [
       "<div>\n",
       "<style scoped>\n",
       "    .dataframe tbody tr th:only-of-type {\n",
       "        vertical-align: middle;\n",
       "    }\n",
       "\n",
       "    .dataframe tbody tr th {\n",
       "        vertical-align: top;\n",
       "    }\n",
       "\n",
       "    .dataframe thead th {\n",
       "        text-align: right;\n",
       "    }\n",
       "</style>\n",
       "<table border=\"1\" class=\"dataframe\">\n",
       "  <thead>\n",
       "    <tr style=\"text-align: right;\">\n",
       "      <th></th>\n",
       "      <th>Sentiment</th>\n",
       "      <th>Instagram_Comment_Text</th>\n",
       "      <th>Sentiment_Encoded</th>\n",
       "      <th>cleaned_comment</th>\n",
       "    </tr>\n",
       "  </thead>\n",
       "  <tbody>\n",
       "    <tr>\n",
       "      <th>390</th>\n",
       "      <td>positive</td>\n",
       "      <td>Mereka hanya mencari rejeki utk keluarganya, kalau ada yg merasa tdk berkenan tolong jangan menggunakan kekerasan</td>\n",
       "      <td>1</td>\n",
       "      <td>hanya mencari rejeki utk keluarganya kalau yg merasa tdk berkenan jangan menggunakan kekerasan</td>\n",
       "    </tr>\n",
       "    <tr>\n",
       "      <th>326</th>\n",
       "      <td>positive</td>\n",
       "      <td>Jangan di dengar kata 2 yg menyakitkan hati lebih baik tenang jalanin aja dengan pilihan andah sendiri bahagia itu biasanya ada di kata hatimu maju trus dan sukses bersama pasangan mu</td>\n",
       "      <td>1</td>\n",
       "      <td>jangan dengar kata 2 yg menyakitkan hati lebih baik tenang jalanin aja pilihan andah sendiri bahagia biasanya di kata hatimu maju trus sukses bersama pasangan mu</td>\n",
       "    </tr>\n",
       "    <tr>\n",
       "      <th>139</th>\n",
       "      <td>negative</td>\n",
       "      <td>Oh ini toh yang kemaren TIDAK MENGHARGAI KARYA ORANG DAN SEENAKNYA BILANG JELEK BANGET... Aduh itu penganten perempuan nya KEKENYANGAN yah... Ampe kembung gitu perut nya... #pepuraLuGU</td>\n",
       "      <td>0</td>\n",
       "      <td>ini yang kemaren menghargai karya orang seenaknya bilang jelek banget aduh penganten perempuan nya kekenyangan yah ampe kembung gitu perut nya pepuralugu</td>\n",
       "    </tr>\n",
       "    <tr>\n",
       "      <th>119</th>\n",
       "      <td>negative</td>\n",
       "      <td>&lt;USERNAME&gt; please lo jangan bela pelakor,ini semua hukuman untuk si muljem karna uda tega recut suami sahabat sendiri,dia lagi menjalani sanksi sosialnya!! kenapa valakor mesti dibenci?? karna biar ga ada valakor\" lainnya di Indonesia,biar musnah sem</td>\n",
       "      <td>0</td>\n",
       "      <td>username please lo jangan bela pelakor semua hukuman si muljem karna uda tega recut suami sahabat sendiri lagi menjalani sanksi sosialnya valakor mesti dibenci karna biar ga valakor lainnya indonesia biar musnah sem</td>\n",
       "    </tr>\n",
       "    <tr>\n",
       "      <th>77</th>\n",
       "      <td>negative</td>\n",
       "      <td>Noraaak abiiis... Baru kebeli emas az pamer aplg mainan berlian ciiinnnnn.... ??</td>\n",
       "      <td>0</td>\n",
       "      <td>noraaak abiiis baru kebeli emas az pamer aplg mainan berlian ciiinnnnn</td>\n",
       "    </tr>\n",
       "    <tr>\n",
       "      <th>...</th>\n",
       "      <td>...</td>\n",
       "      <td>...</td>\n",
       "      <td>...</td>\n",
       "      <td>...</td>\n",
       "    </tr>\n",
       "    <tr>\n",
       "      <th>156</th>\n",
       "      <td>negative</td>\n",
       "      <td>Wkwkwkwk... Ya Allah ya Tuhan ku knp lah org2 munafik ni tp sok suci, mulan jamela kan ayu ting2 ngikuti jejak a bukan? Wkwkwk  &lt;USERNAME&gt;</td>\n",
       "      <td>0</td>\n",
       "      <td>wkwkwkwk allah tuhan ku knp lah org2 munafik ni tp sok suci mulan jamela kan ayu ting2 ngikuti jejak a bukan wkwkwk username</td>\n",
       "    </tr>\n",
       "    <tr>\n",
       "      <th>258</th>\n",
       "      <td>positive</td>\n",
       "      <td>Yatuhan suaranyaaaaaaa bagus bangetttttttt</td>\n",
       "      <td>1</td>\n",
       "      <td>yatuhan suaranyaaaaaaa bagus bangetttttttt</td>\n",
       "    </tr>\n",
       "    <tr>\n",
       "      <th>49</th>\n",
       "      <td>negative</td>\n",
       "      <td>Astagah, demen ama cewek dekil kumel. Ibaratnya dari nagita turun ke att. Nagita kaya emas att kaya barlen</td>\n",
       "      <td>0</td>\n",
       "      <td>astagah demen ama cewek dekil kumel ibaratnya nagita turun att nagita kaya emas att kaya barlen</td>\n",
       "    </tr>\n",
       "    <tr>\n",
       "      <th>339</th>\n",
       "      <td>positive</td>\n",
       "      <td>Semoga ga putus lagi ya. Ka bella udah bahagia banget tuh, ga malu??? ??????</td>\n",
       "      <td>1</td>\n",
       "      <td>semoga ga putus ya ka bella udah bahagia banget tuh ga malu</td>\n",
       "    </tr>\n",
       "    <tr>\n",
       "      <th>201</th>\n",
       "      <td>positive</td>\n",
       "      <td>Lagu barunya mbak tata kan kisah nyatanya rumah tangga mbak tata.... jadi rasanya mbak tata bener2 sayang get sama suaminya... syukur kalau baikan.... semoga awet...</td>\n",
       "      <td>1</td>\n",
       "      <td>lagu barunya mbak tata kan kisah nyatanya rumah tangga mbak tata jadi rasanya mbak tata bener2 sayang get sama suaminya syukur kalau baikan semoga awet</td>\n",
       "    </tr>\n",
       "  </tbody>\n",
       "</table>\n",
       "<p>320 rows × 4 columns</p>\n",
       "</div>"
      ],
      "text/plain": [
       "    Sentiment  \\\n",
       "390  positive   \n",
       "326  positive   \n",
       "139  negative   \n",
       "119  negative   \n",
       "77   negative   \n",
       "..        ...   \n",
       "156  negative   \n",
       "258  positive   \n",
       "49   negative   \n",
       "339  positive   \n",
       "201  positive   \n",
       "\n",
       "                                                                                                                                                                                                                                          Instagram_Comment_Text  \\\n",
       "390                                                                                                                                            Mereka hanya mencari rejeki utk keluarganya, kalau ada yg merasa tdk berkenan tolong jangan menggunakan kekerasan   \n",
       "326                                                                      Jangan di dengar kata 2 yg menyakitkan hati lebih baik tenang jalanin aja dengan pilihan andah sendiri bahagia itu biasanya ada di kata hatimu maju trus dan sukses bersama pasangan mu   \n",
       "139                                                                     Oh ini toh yang kemaren TIDAK MENGHARGAI KARYA ORANG DAN SEENAKNYA BILANG JELEK BANGET... Aduh itu penganten perempuan nya KEKENYANGAN yah... Ampe kembung gitu perut nya... #pepuraLuGU   \n",
       "119   <USERNAME> please lo jangan bela pelakor,ini semua hukuman untuk si muljem karna uda tega recut suami sahabat sendiri,dia lagi menjalani sanksi sosialnya!! kenapa valakor mesti dibenci?? karna biar ga ada valakor\" lainnya di Indonesia,biar musnah sem   \n",
       "77                                                                                                                                                                              Noraaak abiiis... Baru kebeli emas az pamer aplg mainan berlian ciiinnnnn.... ??   \n",
       "..                                                                                                                                                                                                                                                           ...   \n",
       "156                                                                                                                   Wkwkwkwk... Ya Allah ya Tuhan ku knp lah org2 munafik ni tp sok suci, mulan jamela kan ayu ting2 ngikuti jejak a bukan? Wkwkwk  <USERNAME>   \n",
       "258                                                                                                                                                                                                                   Yatuhan suaranyaaaaaaa bagus bangetttttttt   \n",
       "49                                                                                                                                                    Astagah, demen ama cewek dekil kumel. Ibaratnya dari nagita turun ke att. Nagita kaya emas att kaya barlen   \n",
       "339                                                                                                                                                                                 Semoga ga putus lagi ya. Ka bella udah bahagia banget tuh, ga malu??? ??????   \n",
       "201                                                                                        Lagu barunya mbak tata kan kisah nyatanya rumah tangga mbak tata.... jadi rasanya mbak tata bener2 sayang get sama suaminya... syukur kalau baikan.... semoga awet...   \n",
       "\n",
       "     Sentiment_Encoded  \\\n",
       "390                  1   \n",
       "326                  1   \n",
       "139                  0   \n",
       "119                  0   \n",
       "77                   0   \n",
       "..                 ...   \n",
       "156                  0   \n",
       "258                  1   \n",
       "49                   0   \n",
       "339                  1   \n",
       "201                  1   \n",
       "\n",
       "                                                                                                                                                                                                             cleaned_comment  \n",
       "390                                                                                                                           hanya mencari rejeki utk keluarganya kalau yg merasa tdk berkenan jangan menggunakan kekerasan  \n",
       "326                                                        jangan dengar kata 2 yg menyakitkan hati lebih baik tenang jalanin aja pilihan andah sendiri bahagia biasanya di kata hatimu maju trus sukses bersama pasangan mu  \n",
       "139                                                                ini yang kemaren menghargai karya orang seenaknya bilang jelek banget aduh penganten perempuan nya kekenyangan yah ampe kembung gitu perut nya pepuralugu  \n",
       "119  username please lo jangan bela pelakor semua hukuman si muljem karna uda tega recut suami sahabat sendiri lagi menjalani sanksi sosialnya valakor mesti dibenci karna biar ga valakor lainnya indonesia biar musnah sem  \n",
       "77                                                                                                                                                    noraaak abiiis baru kebeli emas az pamer aplg mainan berlian ciiinnnnn  \n",
       "..                                                                                                                                                                                                                       ...  \n",
       "156                                                                                             wkwkwkwk allah tuhan ku knp lah org2 munafik ni tp sok suci mulan jamela kan ayu ting2 ngikuti jejak a bukan wkwkwk username  \n",
       "258                                                                                                                                                                               yatuhan suaranyaaaaaaa bagus bangetttttttt  \n",
       "49                                                                                                                           astagah demen ama cewek dekil kumel ibaratnya nagita turun att nagita kaya emas att kaya barlen  \n",
       "339                                                                                                                                                              semoga ga putus ya ka bella udah bahagia banget tuh ga malu  \n",
       "201                                                                  lagu barunya mbak tata kan kisah nyatanya rumah tangga mbak tata jadi rasanya mbak tata bener2 sayang get sama suaminya syukur kalau baikan semoga awet  \n",
       "\n",
       "[320 rows x 4 columns]"
      ]
     },
     "execution_count": 60,
     "metadata": {},
     "output_type": "execute_result"
    }
   ],
   "source": [
    "train_df"
   ]
  },
  {
   "cell_type": "markdown",
   "id": "177327e5-15b1-4205-83c1-143925217b41",
   "metadata": {},
   "source": [
    "Ganti *Instagram_Comment_text* dengan *cleaned_comment*"
   ]
  },
  {
   "cell_type": "code",
   "execution_count": 61,
   "id": "148c4464-27bc-49ff-9c86-e0691d6dfbf1",
   "metadata": {},
   "outputs": [],
   "source": [
    "train_df.drop(columns=['Instagram_Comment_Text'], inplace=True)\n",
    "train_df.rename(columns={'cleaned_comment': 'Instagram_Comment_Text'}, inplace=True)"
   ]
  },
  {
   "cell_type": "code",
   "execution_count": 62,
   "id": "dacb96d4-6e0c-433a-91fa-0e967e764ba4",
   "metadata": {},
   "outputs": [
    {
     "data": {
      "text/html": [
       "<div>\n",
       "<style scoped>\n",
       "    .dataframe tbody tr th:only-of-type {\n",
       "        vertical-align: middle;\n",
       "    }\n",
       "\n",
       "    .dataframe tbody tr th {\n",
       "        vertical-align: top;\n",
       "    }\n",
       "\n",
       "    .dataframe thead th {\n",
       "        text-align: right;\n",
       "    }\n",
       "</style>\n",
       "<table border=\"1\" class=\"dataframe\">\n",
       "  <thead>\n",
       "    <tr style=\"text-align: right;\">\n",
       "      <th></th>\n",
       "      <th>Sentiment</th>\n",
       "      <th>Sentiment_Encoded</th>\n",
       "      <th>Instagram_Comment_Text</th>\n",
       "    </tr>\n",
       "  </thead>\n",
       "  <tbody>\n",
       "    <tr>\n",
       "      <th>390</th>\n",
       "      <td>positive</td>\n",
       "      <td>1</td>\n",
       "      <td>hanya mencari rejeki utk keluarganya kalau yg merasa tdk berkenan jangan menggunakan kekerasan</td>\n",
       "    </tr>\n",
       "    <tr>\n",
       "      <th>326</th>\n",
       "      <td>positive</td>\n",
       "      <td>1</td>\n",
       "      <td>jangan dengar kata 2 yg menyakitkan hati lebih baik tenang jalanin aja pilihan andah sendiri bahagia biasanya di kata hatimu maju trus sukses bersama pasangan mu</td>\n",
       "    </tr>\n",
       "    <tr>\n",
       "      <th>139</th>\n",
       "      <td>negative</td>\n",
       "      <td>0</td>\n",
       "      <td>ini yang kemaren menghargai karya orang seenaknya bilang jelek banget aduh penganten perempuan nya kekenyangan yah ampe kembung gitu perut nya pepuralugu</td>\n",
       "    </tr>\n",
       "    <tr>\n",
       "      <th>119</th>\n",
       "      <td>negative</td>\n",
       "      <td>0</td>\n",
       "      <td>username please lo jangan bela pelakor semua hukuman si muljem karna uda tega recut suami sahabat sendiri lagi menjalani sanksi sosialnya valakor mesti dibenci karna biar ga valakor lainnya indonesia biar musnah sem</td>\n",
       "    </tr>\n",
       "    <tr>\n",
       "      <th>77</th>\n",
       "      <td>negative</td>\n",
       "      <td>0</td>\n",
       "      <td>noraaak abiiis baru kebeli emas az pamer aplg mainan berlian ciiinnnnn</td>\n",
       "    </tr>\n",
       "  </tbody>\n",
       "</table>\n",
       "</div>"
      ],
      "text/plain": [
       "    Sentiment  Sentiment_Encoded  \\\n",
       "390  positive                  1   \n",
       "326  positive                  1   \n",
       "139  negative                  0   \n",
       "119  negative                  0   \n",
       "77   negative                  0   \n",
       "\n",
       "                                                                                                                                                                                                      Instagram_Comment_Text  \n",
       "390                                                                                                                           hanya mencari rejeki utk keluarganya kalau yg merasa tdk berkenan jangan menggunakan kekerasan  \n",
       "326                                                        jangan dengar kata 2 yg menyakitkan hati lebih baik tenang jalanin aja pilihan andah sendiri bahagia biasanya di kata hatimu maju trus sukses bersama pasangan mu  \n",
       "139                                                                ini yang kemaren menghargai karya orang seenaknya bilang jelek banget aduh penganten perempuan nya kekenyangan yah ampe kembung gitu perut nya pepuralugu  \n",
       "119  username please lo jangan bela pelakor semua hukuman si muljem karna uda tega recut suami sahabat sendiri lagi menjalani sanksi sosialnya valakor mesti dibenci karna biar ga valakor lainnya indonesia biar musnah sem  \n",
       "77                                                                                                                                                    noraaak abiiis baru kebeli emas az pamer aplg mainan berlian ciiinnnnn  "
      ]
     },
     "execution_count": 62,
     "metadata": {},
     "output_type": "execute_result"
    }
   ],
   "source": [
    "train_df.head()"
   ]
  },
  {
   "cell_type": "markdown",
   "id": "0000b1fc-6289-488e-8b98-482c25edf677",
   "metadata": {},
   "source": [
    "Pastikan dimensi kolom sama"
   ]
  },
  {
   "cell_type": "code",
   "execution_count": 63,
   "id": "c9b799a7-5b6f-409d-a0db-b8d3bbb6e641",
   "metadata": {},
   "outputs": [
    {
     "data": {
      "text/plain": [
       "(320, 3)"
      ]
     },
     "execution_count": 63,
     "metadata": {},
     "output_type": "execute_result"
    }
   ],
   "source": [
    "train_df.shape"
   ]
  },
  {
   "cell_type": "code",
   "execution_count": 64,
   "id": "935cdc9b-f456-4f38-b9c2-e5057a270ad2",
   "metadata": {},
   "outputs": [
    {
     "data": {
      "text/plain": [
       "(80, 3)"
      ]
     },
     "execution_count": 64,
     "metadata": {},
     "output_type": "execute_result"
    }
   ],
   "source": [
    "test_df.shape"
   ]
  },
  {
   "cell_type": "markdown",
   "id": "b7c0ad48-9462-4155-a75e-a41382cad809",
   "metadata": {},
   "source": [
    "## Modeling"
   ]
  },
  {
   "cell_type": "code",
   "execution_count": 65,
   "id": "b6d71021-e790-4d74-9f3c-8e5a7eaeae81",
   "metadata": {},
   "outputs": [],
   "source": [
    "# Create vectorizer\n",
    "vectorizer = TfidfVectorizer(max_features=100) # 100 kata\n",
    "X_train_tfidf = vectorizer.fit_transform(train_df['Instagram_Comment_Text'])\n",
    "X_test_tfidf = vectorizer.transform(test_df['Instagram_Comment_Text'])"
   ]
  },
  {
   "cell_type": "code",
   "execution_count": 66,
   "id": "719ba490-ac3c-4874-b12d-bdfdac8a48b9",
   "metadata": {},
   "outputs": [],
   "source": [
    "y_train = train_df['Sentiment_Encoded']\n",
    "y_test = test_df['Sentiment_Encoded']"
   ]
  },
  {
   "cell_type": "code",
   "execution_count": 67,
   "id": "a1b0b36b-51d5-4ad6-919e-9c0072051a16",
   "metadata": {},
   "outputs": [],
   "source": [
    "# Gabungkan fitur & label (label di kolom pertama)\n",
    "train_arr = np.hstack([y_train.values.reshape(-1, 1), X_train_tfidf.toarray()])\n",
    "test_arr = np.hstack([y_test.values.reshape(-1, 1), X_test_tfidf.toarray()])"
   ]
  },
  {
   "cell_type": "markdown",
   "id": "2f866677-3f80-440c-8a04-ff6a00ae07ac",
   "metadata": {},
   "source": [
    "Upload ke S3"
   ]
  },
  {
   "cell_type": "code",
   "execution_count": 68,
   "id": "e629028b-315e-418b-8e59-7d4bbbae44eb",
   "metadata": {},
   "outputs": [
    {
     "name": "stdout",
     "output_type": "stream",
     "text": [
      "Sukses upload asset/train.csv to s3://sentiments890/linear-learner-asset/train/train.csv\n",
      "Sukses upload asset/test.csv to s3://sentiments890/linear-learner-asset/test/test.csv\n"
     ]
    }
   ],
   "source": [
    "s3 = boto3.client('s3')\n",
    "\n",
    "prefix='linear-learner-asset'\n",
    "\n",
    "def upload_to_s3(local_file, bucket, s3_path):\n",
    "    s3.upload_file(local_file, bucket, s3_path)\n",
    "    print(f\"Sukses upload {local_file} to s3://{bucket}/{s3_path}\")\n",
    "\n",
    "upload_to_s3('asset/train.csv', bucket_name, f'{prefix}/train/train.csv')\n",
    "upload_to_s3('asset/test.csv', bucket_name, f'{prefix}/test/test.csv')"
   ]
  },
  {
   "cell_type": "markdown",
   "id": "fc030590-9106-4f72-815c-a6689531231d",
   "metadata": {},
   "source": [
    "Simpan fungsi vectorizer"
   ]
  },
  {
   "cell_type": "code",
   "execution_count": 69,
   "id": "60d3014a-062a-46f5-a96c-1686e21d5dcf",
   "metadata": {},
   "outputs": [
    {
     "name": "stdout",
     "output_type": "stream",
     "text": [
      "Sukses upload tfidf_vectorizer.joblib ke s3://sentiments890/linear-learner-asset/artifact/tfidf_vectorizer.joblib\n"
     ]
    }
   ],
   "source": [
    "vectorizer_filename = 'tfidf_vectorizer.joblib'\n",
    "joblib.dump(vectorizer, vectorizer_filename)\n",
    "s3_path = 'linear-learner-asset/artifact/tfidf_vectorizer.joblib'  # path di S3\n",
    "\n",
    "s3.upload_file(vectorizer_filename, bucket_name, s3_path)\n",
    "print(f\"Sukses upload {vectorizer_filename} ke s3://{bucket_name}/{s3_path}\")"
   ]
  },
  {
   "cell_type": "markdown",
   "id": "75214fe9-d8d0-4fe6-b4f7-d49163e6f232",
   "metadata": {},
   "source": [
    "Dapatkan container default dari sagemaker"
   ]
  },
  {
   "cell_type": "code",
   "execution_count": 70,
   "id": "3f62d001-e9c5-4cee-a7cf-d1f5666c792f",
   "metadata": {},
   "outputs": [
    {
     "name": "stderr",
     "output_type": "stream",
     "text": [
      "INFO:sagemaker.image_uris:Same images used for training and inference. Defaulting to image scope: inference.\n",
      "INFO:sagemaker.image_uris:Ignoring unnecessary instance type: None.\n"
     ]
    }
   ],
   "source": [
    "container = image_uris.retrieve(\n",
    "    'linear-learner',\n",
    "    sagemaker.Session().boto_region_name,\n",
    "    '1.5-1'\n",
    ")"
   ]
  },
  {
   "cell_type": "markdown",
   "id": "442bb264-37a0-4998-8743-6aad62b4f0de",
   "metadata": {},
   "source": [
    "Metode Built-in Algoritma"
   ]
  },
  {
   "cell_type": "code",
   "execution_count": 71,
   "id": "c822551a-9ceb-4aec-a30d-96f9ef5a8dee",
   "metadata": {},
   "outputs": [],
   "source": [
    "estimator = Estimator(\n",
    "    image_uri=container,\n",
    "    role=role,\n",
    "    instance_count=1,\n",
    "    instance_type='ml.m5.large', # instance yg murah\n",
    "    output_path=f's3://{bucket_name}/{prefix}/model/output',\n",
    "    hyperparameters={\n",
    "        'predictor_type': 'binary_classifier',\n",
    "        'optimizer': 'auto',\n",
    "        'mini_batch_size': 16\n",
    "    }\n",
    ")\n",
    "\n",
    "# Channel input\n",
    "train_data = TrainingInput(f's3://{bucket_name}/{prefix}/train/train.csv', content_type='text/csv')\n",
    "test_data = TrainingInput(f's3://{bucket_name}/{prefix}/test/test.csv', content_type='text/csv')"
   ]
  },
  {
   "cell_type": "markdown",
   "id": "9a9a6dad-7cce-4c6b-b99b-89ddaa7957af",
   "metadata": {},
   "source": [
    "Training"
   ]
  },
  {
   "cell_type": "code",
   "execution_count": null,
   "id": "96c4e4ca-112a-41a8-857f-1b27f713d323",
   "metadata": {},
   "outputs": [],
   "source": [
    "estimator.fit({'train': train_data, 'validation': test_data})"
   ]
  },
  {
   "cell_type": "code",
   "execution_count": 73,
   "id": "55fc4a34-9f12-41f9-8353-6926cb571925",
   "metadata": {},
   "outputs": [
    {
     "name": "stdout",
     "output_type": "stream",
     "text": [
      "train:progress: 100.0\n",
      "validation:binary_classification_accuracy: 0.75\n",
      "validation:recall: 0.725\n",
      "validation:roc_auc_score: 0.833\n",
      "validation:precision: 0.763\n"
     ]
    }
   ],
   "source": [
    "if estimator.latest_training_job is not None:\n",
    "    job = estimator.latest_training_job\n",
    "    metrics = job.describe()['FinalMetricDataList']\n",
    "    \n",
    "    wanted_metrics = [\n",
    "        'train:progress',\n",
    "        'validation:binary_classification_accuracy',\n",
    "        'validation:recall',\n",
    "        'validation:roc_auc_score',\n",
    "        'validation:precision'\n",
    "    ]\n",
    "\n",
    "    for metric in metrics:\n",
    "        if metric['MetricName'] in wanted_metrics:\n",
    "            value = round(metric['Value'], 3)\n",
    "            print(f\"{metric['MetricName']}: {value}\")"
   ]
  },
  {
   "cell_type": "markdown",
   "id": "90200a9a-df6d-42ce-a7d8-e6142aee6e3f",
   "metadata": {},
   "source": [
    "### Learning Curve"
   ]
  },
  {
   "cell_type": "markdown",
   "id": "82d94230-9c35-426e-87c6-1de47cf92b14",
   "metadata": {},
   "source": [
    "Plot learning curve bisa dilihat melalui **CloudWatch**"
   ]
  },
  {
   "cell_type": "markdown",
   "id": "32edd2ac-e4c4-4138-bed2-2e0dc0f8859a",
   "metadata": {},
   "source": [
    "### Deploy Model"
   ]
  },
  {
   "cell_type": "code",
   "execution_count": 74,
   "id": "e5e7e07d-c395-4e18-9f9d-f39d3b736886",
   "metadata": {},
   "outputs": [
    {
     "name": "stderr",
     "output_type": "stream",
     "text": [
      "INFO:sagemaker:Creating model with name: linear-learner-2025-07-12-01-33-24-473\n",
      "INFO:sagemaker:Creating endpoint-config with name linear-learner-v1\n",
      "INFO:sagemaker:Creating endpoint with name linear-learner-v1\n"
     ]
    },
    {
     "name": "stdout",
     "output_type": "stream",
     "text": [
      "------------------!"
     ]
    }
   ],
   "source": [
    "predictor = estimator.deploy(\n",
    "    initial_instance_count=1,\n",
    "    instance_type='ml.t2.medium',\n",
    "    endpoint_name='linear-learner-v1'\n",
    ")"
   ]
  },
  {
   "cell_type": "markdown",
   "id": "f8b5632c-2262-4c47-94da-daca3852e02a",
   "metadata": {},
   "source": [
    "### Confusion Matrix"
   ]
  },
  {
   "cell_type": "code",
   "execution_count": 76,
   "id": "9f27ddfb-b401-4f21-a7e4-472a0489af2a",
   "metadata": {},
   "outputs": [],
   "source": [
    "X_test_tfidf = vectorizer.transform(test_df['Instagram_Comment_Text'])  # matrix hasil TFIDF\n",
    "X_test = X_test_tfidf.toarray()\n",
    "\n",
    "csv_buffer = io.StringIO() # membuat buffer string sementara di memori\n",
    "pd.DataFrame(X_test).to_csv(csv_buffer, header=False, index=False)\n",
    "X_test_csv_string = csv_buffer.getvalue()\n",
    "\n",
    "result = predictor.predict(\n",
    "    X_test_csv_string,\n",
    "    initial_args={\"ContentType\": \"text/csv\"}\n",
    ")"
   ]
  },
  {
   "cell_type": "code",
   "execution_count": 77,
   "id": "08ed0e25-4acc-4ba5-8e77-f0e004210900",
   "metadata": {},
   "outputs": [],
   "source": [
    "response_str = result.decode(\"utf-8\")\n",
    "data = json.loads(response_str)  # data adalah dict dengan key \"predictions\"\n",
    "\n",
    "# Ambil label prediksi dari setiap item di dalam data[\"predictions\"]\n",
    "y_pred = np.array([int(item[\"predicted_label\"]) for item in data[\"predictions\"]])"
   ]
  },
  {
   "cell_type": "code",
   "execution_count": 78,
   "id": "1d8c96ca-35e5-46fe-89c6-9aa967eea51b",
   "metadata": {},
   "outputs": [
    {
     "data": {
      "image/png": "[encoded data removed]",
      "text/plain": [
       "<Figure size 640x480 with 2 Axes>"
      ]
     },
     "metadata": {},
     "output_type": "display_data"
    }
   ],
   "source": [
    "cm = confusion_matrix(y_test, y_pred)\n",
    "disp = ConfusionMatrixDisplay(confusion_matrix=cm)\n",
    "disp.plot(cmap=\"Blues\")\n",
    "plt.show()"
   ]
  },
  {
   "cell_type": "code",
   "execution_count": 79,
   "id": "2a27d276-8c01-427e-8788-830cc9c94691",
   "metadata": {},
   "outputs": [
    {
     "name": "stdout",
     "output_type": "stream",
     "text": [
      "True Positive (TP): 29 => Data aslinya Positive dan Prediksi juga Positive\n",
      "True Negative (TN): 31 => Data aslinya Negative dan Prediksi juga Negative\n",
      "False Positive (FP): 9 => Data aslinya Negative dan Prediksi Positive\n",
      "False Negative (FN): 11 => Data aslinya Positive dan Prediksi Negative\n"
     ]
    }
   ],
   "source": [
    "tn, fp, fn, tp = cm.ravel()\n",
    "\n",
    "print(f\"True Positive (TP): {tp} => Data aslinya Positive dan Prediksi juga Positive\")\n",
    "print(f\"True Negative (TN): {tn} => Data aslinya Negative dan Prediksi juga Negative\")\n",
    "print(f\"False Positive (FP): {fp} => Data aslinya Negative dan Prediksi Positive\")\n",
    "print(f\"False Negative (FN): {fn} => Data aslinya Positive dan Prediksi Negative\")"
   ]
  },
  {
   "cell_type": "markdown",
   "id": "45291109-90c9-4d94-802c-77108d88e005",
   "metadata": {},
   "source": [
    "## Testing Prediction"
   ]
  },
  {
   "cell_type": "code",
   "execution_count": 80,
   "id": "e31240f3-40f5-4cb8-8fa8-62e9ec0d0936",
   "metadata": {},
   "outputs": [],
   "source": [
    "s3_key = 'linear-learner-asset/artifact/tfidf_vectorizer.joblib'\n",
    "local_vectorizer_filename = 'tfidf_vectorizer.joblib'\n",
    "\n",
    "s3_client = boto3.client('s3')\n",
    "s3_client.download_file(bucket_name, s3_key, local_vectorizer_filename)\n",
    "\n",
    "# Load vectorizer dengan joblib\n",
    "loaded_vectorizer = joblib.load(local_vectorizer_filename)\n",
    "\n",
    "# Hapus file lokal setelah load\n",
    "os.remove(local_vectorizer_filename)"
   ]
  },
  {
   "cell_type": "code",
   "execution_count": 81,
   "id": "2d49e835-606b-483d-8d45-633c0a56639d",
   "metadata": {},
   "outputs": [
    {
     "name": "stdout",
     "output_type": "stream",
     "text": [
      "Input: waah selamat yah, semoga jadi anak yang soleh/solehah dan berbakti sama orang tua\n",
      "Prediksi: Positif\n",
      "\n",
      "Input: konten tidak bermutu, mending dihapus aja, membuat orang jadi bodoh!\n",
      "Prediksi: Negatif\n",
      "\n"
     ]
    }
   ],
   "source": [
    "# Input text sentimen\n",
    "input_texts = [\n",
    "    \"waah selamat yah, semoga jadi anak yang soleh/solehah dan berbakti sama orang tua\",\n",
    "    \"konten tidak bermutu, mending dihapus aja, membuat orang jadi bodoh!\"\n",
    "]\n",
    "\n",
    "# Transform pakai vectorizer (harus sama dengan training!)\n",
    "input_tfidf = loaded_vectorizer.transform(input_texts)\n",
    "\n",
    "csv_buffer = io.StringIO()\n",
    "pd.DataFrame(input_tfidf.toarray()).to_csv(csv_buffer, header=False, index=False)\n",
    "input_csv_string = csv_buffer.getvalue()\n",
    "\n",
    "# Prediksi ke endpoint (pastikan Content-Type text/csv)\n",
    "result = predictor.predict(\n",
    "    input_csv_string,\n",
    "    initial_args={\"ContentType\": \"text/csv\"}\n",
    ")\n",
    "\n",
    "# Parse response JSON\n",
    "response_str = result.decode(\"utf-8\")\n",
    "data = json.loads(response_str)\n",
    "\n",
    "preds = [int(item[\"predicted_label\"]) for item in data[\"predictions\"]]\n",
    "\n",
    "# Tampilkan hasil\n",
    "for text, label in zip(input_texts, preds):\n",
    "    sentiment = \"Positif\" if label == 1 else \"Negatif\"\n",
    "    print(f\"Input: {text}\\nPrediksi: {sentiment}\\n\")"
   ]
  }
 ],
 "metadata": {
  "kernelspec": {
   "display_name": "Python 3 (ipykernel)",
   "language": "python",
   "name": "python3"
  },
  "language_info": {
   "codemirror_mode": {
    "name": "ipython",
    "version": 3
   },
   "file_extension": ".py",
   "mimetype": "text/x-python",
   "name": "python",
   "nbconvert_exporter": "python",
   "pygments_lexer": "ipython3",
   "version": "3.12.9"
  }
 },
 "nbformat": 4,
 "nbformat_minor": 5
}
